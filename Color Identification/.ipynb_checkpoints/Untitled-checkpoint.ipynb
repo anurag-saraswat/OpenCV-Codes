{
 "cells": [
  {
   "cell_type": "code",
   "execution_count": null,
   "metadata": {
    "collapsed": false
   },
   "outputs": [],
   "source": [
    "# Python program for Detection of a \n",
    "# specific color(blue here) using OpenCV with Python\n",
    "import cv2\n",
    "import numpy as np \n",
    " \n",
    "# Webcamera no 0 is used to capture the frames\n",
    "cap = cv2.VideoCapture(0) \n",
    " \n",
    "# This drives the program into an infinite loop.\n",
    "while(1):       \n",
    "    # Captures the live stream frame-by-frame\n",
    "    _, frame = cap.read() \n",
    "    # Converts images from BGR to HSV\n",
    "    hsv = cv2.cvtColor(frame, cv2.COLOR_BGR2HSV)\n",
    "    lower_red = np.array([110,50,50])\n",
    "    upper_red = np.array([130,255,255])\n",
    " \n",
    "# Here we are defining range of bluecolor in HSV\n",
    "# This creates a mask of blue coloured \n",
    "# objects found in the frame.\n",
    "mask = cv2.inRange(hsv, lower_red, upper_red)\n",
    " \n",
    "# The bitwise and of the frame and mask is done so \n",
    "# that only the blue coloured objects are highlighted \n",
    "# and stored in res\n",
    "res = cv2.bitwise_and(frame,frame, mask= mask)\n",
    "cv2.imshow('frame',frame)\n",
    "cv2.imshow('mask',mask)\n",
    "cv2.imshow('res',res)\n",
    " \n",
    "# This displays the frame, mask \n",
    "# and res which we created in 3 separate windows.\n",
    "k = cv2.waitKey(5) &amp; 0xFF\n",
    "if k == 27:\n",
    "    break\n",
    " \n",
    "# Destroys all of the HighGUI windows.\n",
    "cv2.destroyAllWindows()\n",
    " \n",
    "# release the captured frame\n",
    "cap.release()"
   ]
  },
  {
   "cell_type": "markdown",
   "metadata": {},
   "source": [
    "##### "
   ]
  }
 ],
 "metadata": {
  "anaconda-cloud": {},
  "kernelspec": {
   "display_name": "Python [default]",
   "language": "python",
   "name": "python3"
  },
  "language_info": {
   "codemirror_mode": {
    "name": "ipython",
    "version": 3
   },
   "file_extension": ".py",
   "mimetype": "text/x-python",
   "name": "python",
   "nbconvert_exporter": "python",
   "pygments_lexer": "ipython3",
   "version": "3.5.2"
  }
 },
 "nbformat": 4,
 "nbformat_minor": 1
}
